{
 "cells": [
  {
   "cell_type": "code",
   "execution_count": 1,
   "id": "0b029a23-429c-45da-9f7f-6acc5098e417",
   "metadata": {},
   "outputs": [],
   "source": [
    "import numpy as np"
   ]
  },
  {
   "cell_type": "markdown",
   "id": "f625d29a-a6f1-4e33-95fa-c75602b6969c",
   "metadata": {},
   "source": [
    "## Araligi Esit Uzakliktaki Noktalara Bolmek\n",
    "* Belirlenen [baslangic, bitis]degerlerine gore baslangic ve bitisi dahil edecek sekilde, araligi esit uzakliktaki noktalara bolmek.\n",
    "* Default olrarak 50 nokta dondurur.\n",
    "* Baslangic ve son da dahil."
   ]
  },
  {
   "cell_type": "code",
   "execution_count": 2,
   "id": "4ad9834b-8c1f-4ef7-a315-9ab77d7e3cee",
   "metadata": {},
   "outputs": [
    {
     "data": {
      "text/plain": [
       "array([1.        , 1.02040816, 1.04081633, 1.06122449, 1.08163265,\n",
       "       1.10204082, 1.12244898, 1.14285714, 1.16326531, 1.18367347,\n",
       "       1.20408163, 1.2244898 , 1.24489796, 1.26530612, 1.28571429,\n",
       "       1.30612245, 1.32653061, 1.34693878, 1.36734694, 1.3877551 ,\n",
       "       1.40816327, 1.42857143, 1.44897959, 1.46938776, 1.48979592,\n",
       "       1.51020408, 1.53061224, 1.55102041, 1.57142857, 1.59183673,\n",
       "       1.6122449 , 1.63265306, 1.65306122, 1.67346939, 1.69387755,\n",
       "       1.71428571, 1.73469388, 1.75510204, 1.7755102 , 1.79591837,\n",
       "       1.81632653, 1.83673469, 1.85714286, 1.87755102, 1.89795918,\n",
       "       1.91836735, 1.93877551, 1.95918367, 1.97959184, 2.        ])"
      ]
     },
     "execution_count": 2,
     "metadata": {},
     "output_type": "execute_result"
    }
   ],
   "source": [
    "np.linspace(1,2)"
   ]
  },
  {
   "cell_type": "markdown",
   "id": "81b063d2-8416-4656-a976-3d00da387299",
   "metadata": {},
   "source": [
    "### Kac Parcaya Bolecegini Belirtmek"
   ]
  },
  {
   "cell_type": "code",
   "execution_count": 4,
   "id": "cbd4a4c9-2484-4c6a-aded-242fd2b84639",
   "metadata": {},
   "outputs": [
    {
     "data": {
      "text/plain": [
       "array([1. , 1.5, 2. ])"
      ]
     },
     "execution_count": 4,
     "metadata": {},
     "output_type": "execute_result"
    }
   ],
   "source": [
    "# 1 ve 2 arasini esit 3 sayiya bolecek. Buna 1 ve 2 de dahil.\n",
    "np.linspace(1,2, num=3)"
   ]
  },
  {
   "cell_type": "code",
   "execution_count": 6,
   "id": "03e75557-3014-446e-8310-70891be3adfe",
   "metadata": {},
   "outputs": [
    {
     "data": {
      "text/plain": [
       "array([1. , 1.5, 2. ])"
      ]
     },
     "execution_count": 6,
     "metadata": {},
     "output_type": "execute_result"
    }
   ],
   "source": [
    "# num diye belirtmeye gerek yok.\n",
    "np.linspace(1,2,3)"
   ]
  },
  {
   "cell_type": "code",
   "execution_count": 7,
   "id": "7ceb4407-2c3c-4a46-b6df-3589e87244e1",
   "metadata": {},
   "outputs": [
    {
     "data": {
      "text/plain": [
       "array([1.        , 1.33333333, 1.66666667])"
      ]
     },
     "execution_count": 7,
     "metadata": {},
     "output_type": "execute_result"
    }
   ],
   "source": [
    "# endpoint=False oldugu icin 2 yi dahil etmeyecek ve boyle 3 parcaya bolecek.\n",
    "np.linspace(1,2, num=3, endpoint=False)"
   ]
  },
  {
   "cell_type": "markdown",
   "id": "d4fe4bc1-386d-4c10-9eda-4501602e50a0",
   "metadata": {},
   "source": [
    "* Sadece int degerler icin degil floatlar icin de gecerli."
   ]
  },
  {
   "cell_type": "code",
   "execution_count": 8,
   "id": "b4e39847-528e-4ba2-bdf9-1e510243f0da",
   "metadata": {},
   "outputs": [
    {
     "data": {
      "text/plain": [
       "array([1.5, 3. , 4.5])"
      ]
     },
     "execution_count": 8,
     "metadata": {},
     "output_type": "execute_result"
    }
   ],
   "source": [
    "np.linspace(1.5,4.5,num=3)"
   ]
  },
  {
   "cell_type": "markdown",
   "id": "63b23f95-53dc-40e7-9d9a-0b1afabb69fb",
   "metadata": {},
   "source": [
    "## Normal Distribution'dan Cekilmis Degerler Ile Array Olusturma\n",
    "* (mean,std,array size)"
   ]
  },
  {
   "cell_type": "code",
   "execution_count": 13,
   "id": "85a98d27-26cf-495e-b267-edd9773056de",
   "metadata": {},
   "outputs": [
    {
     "data": {
      "text/plain": [
       "array([[-1.06734505, -0.57223334,  0.73214432, -0.19105053, -0.51620248],\n",
       "       [ 1.52197088,  0.36927955, -0.47842264, -0.40751953,  0.47987967],\n",
       "       [ 0.17985399, -0.89617811,  0.69795122,  0.31958266, -1.30750593],\n",
       "       [-1.84815897,  1.29363183,  0.19668627, -1.35016934,  0.43274683]])"
      ]
     },
     "execution_count": 13,
     "metadata": {},
     "output_type": "execute_result"
    }
   ],
   "source": [
    "np.random.normal(0,1,(4,5))"
   ]
  },
  {
   "cell_type": "code",
   "execution_count": 15,
   "id": "969b5794-1bd9-402d-8973-fe53e909afc5",
   "metadata": {},
   "outputs": [
    {
     "data": {
      "text/plain": [
       "array([[ 0.80356957, 15.1901022 , 11.9739075 , 16.5739359 ,  7.64947665],\n",
       "       [11.84038846,  6.89482819,  7.09917645,  7.17529479,  5.73595171],\n",
       "       [11.25735039, 14.21395093,  9.64922726,  3.72396395, 16.50511386],\n",
       "       [18.50463871, 15.54737524, -1.63444787,  8.05794129, 16.80457494]])"
      ]
     },
     "execution_count": 15,
     "metadata": {},
     "output_type": "execute_result"
    }
   ],
   "source": [
    "np.random.normal(10,5,(4,5))"
   ]
  },
  {
   "cell_type": "markdown",
   "id": "f7b3d95e-5566-49cc-a381-2b98a5eb6ad7",
   "metadata": {},
   "source": [
    "## Random Integer'lar Ile Array Olusturmak\n",
    "* [low,high)"
   ]
  },
  {
   "cell_type": "code",
   "execution_count": 16,
   "id": "4311ec92-3ef0-4726-a98a-dfc9db6abf53",
   "metadata": {},
   "outputs": [
    {
     "data": {
      "text/plain": [
       "array([[4, 2, 7, 5],\n",
       "       [1, 2, 5, 3],\n",
       "       [6, 3, 3, 2]])"
      ]
     },
     "execution_count": 16,
     "metadata": {},
     "output_type": "execute_result"
    }
   ],
   "source": [
    "np.random.randint(1,10,(3,4))"
   ]
  },
  {
   "cell_type": "code",
   "execution_count": 18,
   "id": "c2c688bc-4be2-4253-bde1-8d43d0b78829",
   "metadata": {},
   "outputs": [
    {
     "data": {
      "text/plain": [
       "5"
      ]
     },
     "execution_count": 18,
     "metadata": {},
     "output_type": "execute_result"
    }
   ],
   "source": [
    "np.random.randint(1,10)"
   ]
  },
  {
   "cell_type": "markdown",
   "id": "30ed19b8-7343-44fa-a825-55c8064e0434",
   "metadata": {},
   "source": [
    "## Identity(Birim) Matrix Olusturmak\n",
    "* [low,high)"
   ]
  },
  {
   "cell_type": "code",
   "execution_count": 19,
   "id": "5e58407b-edfc-42d6-a953-57e653e81733",
   "metadata": {},
   "outputs": [
    {
     "data": {
      "text/plain": [
       "array([[1., 0., 0., 0.],\n",
       "       [0., 1., 0., 0.],\n",
       "       [0., 0., 1., 0.]])"
      ]
     },
     "execution_count": 19,
     "metadata": {},
     "output_type": "execute_result"
    }
   ],
   "source": [
    "np.eye(3,4)"
   ]
  },
  {
   "cell_type": "code",
   "execution_count": 20,
   "id": "c00b750a-359d-4c6d-ab20-035227a095da",
   "metadata": {},
   "outputs": [
    {
     "data": {
      "text/plain": [
       "array([[1., 0., 0., 0., 0.],\n",
       "       [0., 1., 0., 0., 0.],\n",
       "       [0., 0., 1., 0., 0.],\n",
       "       [0., 0., 0., 1., 0.],\n",
       "       [0., 0., 0., 0., 1.]])"
      ]
     },
     "execution_count": 20,
     "metadata": {},
     "output_type": "execute_result"
    }
   ],
   "source": [
    "np.eye(5,5)"
   ]
  }
 ],
 "metadata": {
  "kernelspec": {
   "display_name": "Python 3 (ipykernel)",
   "language": "python",
   "name": "python3"
  },
  "language_info": {
   "codemirror_mode": {
    "name": "ipython",
    "version": 3
   },
   "file_extension": ".py",
   "mimetype": "text/x-python",
   "name": "python",
   "nbconvert_exporter": "python",
   "pygments_lexer": "ipython3",
   "version": "3.11.5"
  }
 },
 "nbformat": 4,
 "nbformat_minor": 5
}
