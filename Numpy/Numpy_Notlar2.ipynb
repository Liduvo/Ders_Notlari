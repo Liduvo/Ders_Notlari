{
 "cells": [
  {
   "cell_type": "code",
   "execution_count": 1,
   "id": "a65bf7cd-170e-4f64-92ea-fe6610cec868",
   "metadata": {},
   "outputs": [],
   "source": [
    "import numpy as np"
   ]
  },
  {
   "cell_type": "markdown",
   "id": "806e141d-932a-4b27-b17e-df1ceb6689b6",
   "metadata": {},
   "source": [
    "## Elemanlari 0'lardan Olusan Array Olusturmak"
   ]
  },
  {
   "cell_type": "code",
   "execution_count": 2,
   "id": "0327654b-aba4-4afe-9997-f83c9eafdb4d",
   "metadata": {},
   "outputs": [
    {
     "data": {
      "text/plain": [
       "array([0., 0., 0., 0., 0., 0., 0., 0., 0., 0.])"
      ]
     },
     "execution_count": 2,
     "metadata": {},
     "output_type": "execute_result"
    }
   ],
   "source": [
    "np.zeros(10)"
   ]
  },
  {
   "cell_type": "markdown",
   "id": "93f485a7-5eca-4591-9a27-0f116fbda04f",
   "metadata": {},
   "source": [
    "* Str de 0 yerine konulan sey bosluk yani \" \" oldugu icin 0 yerine onu koyuyor  "
   ]
  },
  {
   "cell_type": "code",
   "execution_count": 3,
   "id": "48727a45-c258-46ee-bb8e-4c648eb123a9",
   "metadata": {},
   "outputs": [
    {
     "data": {
      "text/plain": [
       "array(['', '', '', '', '', '', '', '', '', ''], dtype='<U1')"
      ]
     },
     "execution_count": 3,
     "metadata": {},
     "output_type": "execute_result"
    }
   ],
   "source": [
    "np.zeros(10, dtype = str)"
   ]
  },
  {
   "cell_type": "code",
   "execution_count": 4,
   "id": "18679f7a-ad0a-424c-bc83-ce0358dc4b92",
   "metadata": {},
   "outputs": [
    {
     "data": {
      "text/plain": [
       "array([0, 0, 0, 0, 0, 0, 0, 0, 0, 0])"
      ]
     },
     "execution_count": 4,
     "metadata": {},
     "output_type": "execute_result"
    }
   ],
   "source": [
    "np.zeros(10, dtype = int)"
   ]
  },
  {
   "cell_type": "markdown",
   "id": "7a5e42df-1701-41ef-89a0-858ff131c548",
   "metadata": {},
   "source": [
    "## Elemanlari 0'lardan Olusan Multidimensional Array Olusturmak\n",
    "* Cok boyutlu arraylar olusturabiliyoruz."
   ]
  },
  {
   "cell_type": "code",
   "execution_count": 6,
   "id": "6db2b7eb-8afc-4db4-92c0-eff66b5e4aae",
   "metadata": {},
   "outputs": [
    {
     "data": {
      "text/plain": [
       "array([[0., 0., 0.],\n",
       "       [0., 0., 0.],\n",
       "       [0., 0., 0.],\n",
       "       [0., 0., 0.],\n",
       "       [0., 0., 0.]])"
      ]
     },
     "execution_count": 6,
     "metadata": {},
     "output_type": "execute_result"
    }
   ],
   "source": [
    "# 5 Satir(Row) ve 4 Sutun(Column)'u olan bir array olusturduk.\n",
    "np.zeros((5,3))"
   ]
  },
  {
   "cell_type": "code",
   "execution_count": 8,
   "id": "cf341fb0-34c3-491c-ab90-676db11042f9",
   "metadata": {},
   "outputs": [
    {
     "data": {
      "text/plain": [
       "array([[[0., 0., 0., 0.],\n",
       "        [0., 0., 0., 0.],\n",
       "        [0., 0., 0., 0.]],\n",
       "\n",
       "       [[0., 0., 0., 0.],\n",
       "        [0., 0., 0., 0.],\n",
       "        [0., 0., 0., 0.]]])"
      ]
     },
     "execution_count": 8,
     "metadata": {},
     "output_type": "execute_result"
    }
   ],
   "source": [
    "# 2 Tane 3 Row ve 4 Column dan olusan bir array olusturduk.\n",
    "np.zeros((2,3,4))"
   ]
  },
  {
   "cell_type": "code",
   "execution_count": 9,
   "id": "91981a94-a555-4b23-bddd-a710f67b68fc",
   "metadata": {},
   "outputs": [
    {
     "data": {
      "text/plain": [
       "array([['', ''],\n",
       "       ['', '']], dtype='<U1')"
      ]
     },
     "execution_count": 9,
     "metadata": {},
     "output_type": "execute_result"
    }
   ],
   "source": [
    "np.zeros((2,2), dtype = str)"
   ]
  },
  {
   "cell_type": "markdown",
   "id": "13aa40ee-b05c-4274-a773-b214c58fdcc0",
   "metadata": {},
   "source": [
    "* Bool veri tipinde 0 olarak aldigi sey False. Bu sebeple 0 yerine False koyuyor."
   ]
  },
  {
   "cell_type": "code",
   "execution_count": 11,
   "id": "5dd7e7fd-22fc-4bf9-b20d-7982093190d6",
   "metadata": {},
   "outputs": [
    {
     "data": {
      "text/plain": [
       "array([[False, False],\n",
       "       [False, False]])"
      ]
     },
     "execution_count": 11,
     "metadata": {},
     "output_type": "execute_result"
    }
   ],
   "source": [
    "np.zeros((2,2), dtype = bool)"
   ]
  },
  {
   "cell_type": "markdown",
   "id": "f283fcb5-a3ee-4447-8ef3-a4be3b4e9e18",
   "metadata": {},
   "source": [
    "## Belirtilen Bir Elemandan Array Olusturma"
   ]
  },
  {
   "cell_type": "code",
   "execution_count": 12,
   "id": "fb23383e-503c-4f47-a7bb-1a79622d55e6",
   "metadata": {},
   "outputs": [
    {
     "data": {
      "text/plain": [
       "array([[5, 5, 5, 5, 5],\n",
       "       [5, 5, 5, 5, 5],\n",
       "       [5, 5, 5, 5, 5],\n",
       "       [5, 5, 5, 5, 5]])"
      ]
     },
     "execution_count": 12,
     "metadata": {},
     "output_type": "execute_result"
    }
   ],
   "source": [
    "np.full((4,5), 5)"
   ]
  },
  {
   "cell_type": "markdown",
   "id": "db310b56-d98f-4fe8-b681-85361d755aef",
   "metadata": {},
   "source": [
    "* Diyelimki bizim 4.3 gibi bir float sayimiz var. Bunu normalde str e cevirirsek \"4.3\" olur ama arraylarde bunu str yapmaya kalktigimizda bu basta int a donusum sonrasinda str e donustugu icin \"4\" oluyor."
   ]
  },
  {
   "cell_type": "code",
   "execution_count": 14,
   "id": "26649bf4-ab7f-4e24-8980-b31c38c6840e",
   "metadata": {},
   "outputs": [
    {
     "data": {
      "text/plain": [
       "'4.3'"
      ]
     },
     "execution_count": 14,
     "metadata": {},
     "output_type": "execute_result"
    }
   ],
   "source": [
    "str(4.3)"
   ]
  },
  {
   "cell_type": "code",
   "execution_count": 13,
   "id": "0f22fa65-01d6-45db-a672-f9997dbb4f05",
   "metadata": {},
   "outputs": [
    {
     "data": {
      "text/plain": [
       "array([['4', '4', '4', '4'],\n",
       "       ['4', '4', '4', '4']], dtype='<U1')"
      ]
     },
     "execution_count": 13,
     "metadata": {},
     "output_type": "execute_result"
    }
   ],
   "source": [
    "np.full((2,4),4.3, dtype = \"str\")"
   ]
  },
  {
   "cell_type": "markdown",
   "id": "1c6d74d5-e358-4c68-9b47-6ab1a5d12570",
   "metadata": {},
   "source": [
    "* Ama 4.3 yi direkt \"4.3\" olarak verirsek her hangi bir donusum islemi olmadigi icin degisim olmuyor."
   ]
  },
  {
   "cell_type": "code",
   "execution_count": 15,
   "id": "8bb8bfaa-d88b-4fb0-8272-3ea32a59c8a2",
   "metadata": {},
   "outputs": [
    {
     "data": {
      "text/plain": [
       "array([['4.3', '4.3', '4.3', '4.3'],\n",
       "       ['4.3', '4.3', '4.3', '4.3']], dtype='<U3')"
      ]
     },
     "execution_count": 15,
     "metadata": {},
     "output_type": "execute_result"
    }
   ],
   "source": [
    "np.full((2,4), \"4.3\")"
   ]
  },
  {
   "cell_type": "markdown",
   "id": "5c05ef5d-e9c7-43f4-a9c4-4a06a244e928",
   "metadata": {},
   "source": [
    "## Ardisik Sayilardan Array Olusturmak"
   ]
  },
  {
   "cell_type": "markdown",
   "id": "6a66735d-a023-474d-a008-05be86a355da",
   "metadata": {},
   "source": [
    "* range() foksiyonunun numpy arrayi olusturan hali."
   ]
  },
  {
   "cell_type": "code",
   "execution_count": 17,
   "id": "7e3601bb-8e9c-4a02-8abe-fa7df50fcf36",
   "metadata": {},
   "outputs": [
    {
     "data": {
      "text/plain": [
       "array([ 2,  3,  4,  5,  6,  7,  8,  9, 10])"
      ]
     },
     "execution_count": 17,
     "metadata": {},
     "output_type": "execute_result"
    }
   ],
   "source": [
    "#[2,11)\n",
    "np.arange(2,11)"
   ]
  },
  {
   "cell_type": "code",
   "execution_count": 18,
   "id": "eeded82e-4944-4a27-b5d6-a3d4e8c2292a",
   "metadata": {},
   "outputs": [
    {
     "data": {
      "text/plain": [
       "array([ 2,  4,  6,  8, 10])"
      ]
     },
     "execution_count": 18,
     "metadata": {},
     "output_type": "execute_result"
    }
   ],
   "source": [
    "np.arange(2,12,2)"
   ]
  },
  {
   "cell_type": "markdown",
   "id": "97f3e670-57a4-490f-880d-1dcacde45b5c",
   "metadata": {},
   "source": [
    "* Asagida iki sonucun farkli olmasinin sebebi baslangic dahil iken sonun dahil olmayisi cunku foksiyon [13,4) oldugunda 4 buna dahil olmuyor."
   ]
  },
  {
   "cell_type": "code",
   "execution_count": 21,
   "id": "d9324e0d-0233-42bd-91b6-bd21f47681b1",
   "metadata": {},
   "outputs": [
    {
     "data": {
      "text/plain": [
       "array([13, 10,  7])"
      ]
     },
     "execution_count": 21,
     "metadata": {},
     "output_type": "execute_result"
    }
   ],
   "source": [
    "np.arange(13,4,-3)"
   ]
  },
  {
   "cell_type": "code",
   "execution_count": 22,
   "id": "0a1db947-334e-4320-923d-f7669be31e1a",
   "metadata": {},
   "outputs": [
    {
     "data": {
      "text/plain": [
       "array([13, 10,  7,  4])"
      ]
     },
     "execution_count": 22,
     "metadata": {},
     "output_type": "execute_result"
    }
   ],
   "source": [
    "np.arange(13,1,-3)"
   ]
  }
 ],
 "metadata": {
  "kernelspec": {
   "display_name": "Python 3 (ipykernel)",
   "language": "python",
   "name": "python3"
  },
  "language_info": {
   "codemirror_mode": {
    "name": "ipython",
    "version": 3
   },
   "file_extension": ".py",
   "mimetype": "text/x-python",
   "name": "python",
   "nbconvert_exporter": "python",
   "pygments_lexer": "ipython3",
   "version": "3.11.5"
  }
 },
 "nbformat": 4,
 "nbformat_minor": 5
}
