{
 "cells": [
  {
   "cell_type": "code",
   "execution_count": 2,
   "id": "bbd3c735-2c00-430c-95f3-6bee0505e2bb",
   "metadata": {},
   "outputs": [],
   "source": [
    "import numpy as np "
   ]
  },
  {
   "cell_type": "markdown",
   "id": "1232d00d-52b1-4a93-8a53-581a0eca0f17",
   "metadata": {},
   "source": [
    "## Array İşlemleri"
   ]
  },
  {
   "cell_type": "code",
   "execution_count": 3,
   "id": "17e27261-a891-4569-b284-87b7e118b972",
   "metadata": {},
   "outputs": [
    {
     "ename": "TypeError",
     "evalue": "can't multiply sequence by non-int of type 'list'",
     "output_type": "error",
     "traceback": [
      "\u001b[0;31m---------------------------------------------------------------------------\u001b[0m",
      "\u001b[0;31mTypeError\u001b[0m                                 Traceback (most recent call last)",
      "Cell \u001b[0;32mIn[3], line 6\u001b[0m\n\u001b[1;32m      3\u001b[0m a \u001b[38;5;241m=\u001b[39m [\u001b[38;5;241m1\u001b[39m,\u001b[38;5;241m2\u001b[39m,\u001b[38;5;241m3\u001b[39m]\n\u001b[1;32m      4\u001b[0m b \u001b[38;5;241m=\u001b[39m [\u001b[38;5;241m2\u001b[39m,\u001b[38;5;241m3\u001b[39m,\u001b[38;5;241m8\u001b[39m]\n\u001b[0;32m----> 6\u001b[0m \u001b[43ma\u001b[49m\u001b[43m \u001b[49m\u001b[38;5;241;43m*\u001b[39;49m\u001b[43m \u001b[49m\u001b[43mb\u001b[49m\n",
      "\u001b[0;31mTypeError\u001b[0m: can't multiply sequence by non-int of type 'list'"
     ]
    }
   ],
   "source": [
    "# * operatoru iki list arasinda tanimsizdir, hata verir\n",
    "\n",
    "a = [1,2,3]\n",
    "b = [2,4,8]\n",
    "\n",
    "a * b"
   ]
  },
  {
   "cell_type": "markdown",
   "id": "4aaad294-0180-4221-bd03-59fdb0e9a51d",
   "metadata": {},
   "source": [
    "* List ile integer carpilirsa ard arda concatenation yapar"
   ]
  },
  {
   "cell_type": "code",
   "execution_count": 5,
   "id": "e61263b8-a294-467e-8c83-28406a0182c7",
   "metadata": {},
   "outputs": [
    {
     "data": {
      "text/plain": [
       "[4, 2, 5, 4, 2, 5, 4, 2, 5]"
      ]
     },
     "execution_count": 5,
     "metadata": {},
     "output_type": "execute_result"
    }
   ],
   "source": [
    "[4,2,5] * 3"
   ]
  },
  {
   "cell_type": "code",
   "execution_count": 6,
   "id": "c169fc52-6f2a-40d9-b0a2-505378128d4e",
   "metadata": {},
   "outputs": [
    {
     "data": {
      "text/plain": [
       "[2, 4, 8, 2, 4, 8, 2, 4, 8]"
      ]
     },
     "execution_count": 6,
     "metadata": {},
     "output_type": "execute_result"
    }
   ],
   "source": [
    "[2,4,8] + [2,4,8] + [2,4,8]"
   ]
  },
  {
   "cell_type": "markdown",
   "id": "5b6e810a-b0b0-452e-82b5-aaa9cdebc5cd",
   "metadata": {},
   "source": [
    "* \"*\" operetoru iki numpy arayi arasinda tanimlidir, element-wise(eleman bazli) carpma yapar"
   ]
  },
  {
   "cell_type": "code",
   "execution_count": 7,
   "id": "18df65f5-1ebc-4ab7-a7d1-03eff761248a",
   "metadata": {},
   "outputs": [
    {
     "data": {
      "text/plain": [
       "array([ 2,  8, 24])"
      ]
     },
     "execution_count": 7,
     "metadata": {},
     "output_type": "execute_result"
    }
   ],
   "source": [
    "x = np.array([1,2,3])\n",
    "y = np.array([2,4,8])\n",
    "\n",
    "x * y"
   ]
  },
  {
   "cell_type": "markdown",
   "id": "018b0cf7-af6a-4305-ab96-47984e90a02d",
   "metadata": {},
   "source": [
    "* element-wise carpim yaptigi icin carpilan iki array'in eleman sayisi ayni olmali"
   ]
  },
  {
   "cell_type": "code",
   "execution_count": 8,
   "id": "c1d8009e-ffb1-4c03-92c7-3489a00e0231",
   "metadata": {},
   "outputs": [
    {
     "ename": "ValueError",
     "evalue": "operands could not be broadcast together with shapes (3,) (4,) ",
     "output_type": "error",
     "traceback": [
      "\u001b[0;31m---------------------------------------------------------------------------\u001b[0m",
      "\u001b[0;31mValueError\u001b[0m                                Traceback (most recent call last)",
      "Cell \u001b[0;32mIn[8], line 4\u001b[0m\n\u001b[1;32m      1\u001b[0m x2 \u001b[38;5;241m=\u001b[39m np\u001b[38;5;241m.\u001b[39marray([\u001b[38;5;241m1\u001b[39m,\u001b[38;5;241m2\u001b[39m,\u001b[38;5;241m3\u001b[39m])\n\u001b[1;32m      2\u001b[0m y2 \u001b[38;5;241m=\u001b[39m np\u001b[38;5;241m.\u001b[39marray([\u001b[38;5;241m2\u001b[39m,\u001b[38;5;241m4\u001b[39m,\u001b[38;5;241m8\u001b[39m,\u001b[38;5;241m10\u001b[39m])\n\u001b[0;32m----> 4\u001b[0m \u001b[43mx2\u001b[49m\u001b[43m \u001b[49m\u001b[38;5;241;43m*\u001b[39;49m\u001b[43m \u001b[49m\u001b[43my2\u001b[49m\n",
      "\u001b[0;31mValueError\u001b[0m: operands could not be broadcast together with shapes (3,) (4,) "
     ]
    }
   ],
   "source": [
    "#Eleman sayisi ayni olmadigi icin hata veriyor.\n",
    "x2 = np.array([1,2,3])\n",
    "y2 = np.array([2,4,8,10])\n",
    "\n",
    "x2 * y2"
   ]
  },
  {
   "cell_type": "code",
   "execution_count": 10,
   "id": "70921992-e62d-4b51-8f66-3692d8ba410b",
   "metadata": {},
   "outputs": [
    {
     "data": {
      "text/plain": [
       "[1, 2, 3, 2, 3, 8]"
      ]
     },
     "execution_count": 10,
     "metadata": {},
     "output_type": "execute_result"
    }
   ],
   "source": [
    "#Bunlar list oldugu icin direk listeleri birlestiriyor.\n",
    "a + b"
   ]
  },
  {
   "cell_type": "code",
   "execution_count": 11,
   "id": "9a095c5a-6640-42e7-bb35-a66fc8d826cc",
   "metadata": {},
   "outputs": [
    {
     "data": {
      "text/plain": [
       "array([ 3,  6, 11])"
      ]
     },
     "execution_count": 11,
     "metadata": {},
     "output_type": "execute_result"
    }
   ],
   "source": [
    "#Bunlar numpy array oldugu icin bunlar toplaniyor.\n",
    "x + y"
   ]
  },
  {
   "cell_type": "code",
   "execution_count": 15,
   "id": "a03875f2-be75-4a62-8e02-82d4bc8faedf",
   "metadata": {},
   "outputs": [
    {
     "data": {
      "text/plain": [
       "[1, 2, 3]"
      ]
     },
     "execution_count": 15,
     "metadata": {},
     "output_type": "execute_result"
    }
   ],
   "source": [
    "a"
   ]
  },
  {
   "cell_type": "code",
   "execution_count": 16,
   "id": "d8d533af-1fb5-4ee9-be1d-55ccc068a551",
   "metadata": {},
   "outputs": [
    {
     "data": {
      "text/plain": [
       "[1, 2, 3, 1, 2, 3, 1, 2, 3]"
      ]
     },
     "execution_count": 16,
     "metadata": {},
     "output_type": "execute_result"
    }
   ],
   "source": [
    "#Liste oldugu icin listeyi 3 kere carpti ve birlstirdir\n",
    "3 * a"
   ]
  },
  {
   "cell_type": "code",
   "execution_count": 17,
   "id": "eaa9b491-be54-445a-a95a-a533340a9679",
   "metadata": {},
   "outputs": [
    {
     "data": {
      "text/plain": [
       "array([1, 2, 3])"
      ]
     },
     "execution_count": 17,
     "metadata": {},
     "output_type": "execute_result"
    }
   ],
   "source": [
    "x"
   ]
  },
  {
   "cell_type": "code",
   "execution_count": 18,
   "id": "cef92251-baaf-4b63-b04d-73d7c79d0743",
   "metadata": {},
   "outputs": [
    {
     "data": {
      "text/plain": [
       "array([3, 6, 9])"
      ]
     },
     "execution_count": 18,
     "metadata": {},
     "output_type": "execute_result"
    }
   ],
   "source": [
    "#Numpy array oldugu icin icindeki degerler 3 ile carpiliyor.\n",
    "3 * x"
   ]
  },
  {
   "cell_type": "markdown",
   "id": "8bb12f09-38a0-4cdf-8c6f-19e52879386b",
   "metadata": {},
   "source": [
    "* Deger guncellemek icin"
   ]
  },
  {
   "cell_type": "code",
   "execution_count": 19,
   "id": "d8f46f74-37d3-46be-a255-e025af8f9525",
   "metadata": {},
   "outputs": [],
   "source": [
    "x = x * 3"
   ]
  },
  {
   "cell_type": "code",
   "execution_count": 20,
   "id": "b93428d2-3999-47fc-b37e-00df84809218",
   "metadata": {},
   "outputs": [
    {
     "data": {
      "text/plain": [
       "array([3, 6, 9])"
      ]
     },
     "execution_count": 20,
     "metadata": {},
     "output_type": "execute_result"
    }
   ],
   "source": [
    "x"
   ]
  }
 ],
 "metadata": {
  "kernelspec": {
   "display_name": "Python 3 (ipykernel)",
   "language": "python",
   "name": "python3"
  },
  "language_info": {
   "codemirror_mode": {
    "name": "ipython",
    "version": 3
   },
   "file_extension": ".py",
   "mimetype": "text/x-python",
   "name": "python",
   "nbconvert_exporter": "python",
   "pygments_lexer": "ipython3",
   "version": "3.11.5"
  }
 },
 "nbformat": 4,
 "nbformat_minor": 5
}
