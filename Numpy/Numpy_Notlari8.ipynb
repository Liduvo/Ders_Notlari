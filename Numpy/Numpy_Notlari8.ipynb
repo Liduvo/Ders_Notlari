{
 "cells": [
  {
   "cell_type": "code",
   "execution_count": 1,
   "id": "cc4056ad-29af-4d8f-9acb-586acd207517",
   "metadata": {},
   "outputs": [],
   "source": [
    "import numpy as np"
   ]
  },
  {
   "cell_type": "markdown",
   "id": "88257760-b4a0-4ebc-a366-c06815a5cda2",
   "metadata": {},
   "source": [
    "## Conditional Indexing"
   ]
  },
  {
   "cell_type": "code",
   "execution_count": 2,
   "id": "1a3c81d5-dca1-4bd7-815b-1fb1ba9d4285",
   "metadata": {},
   "outputs": [],
   "source": [
    "a = np.arange(1,10)"
   ]
  },
  {
   "cell_type": "code",
   "execution_count": 3,
   "id": "fad7e5a5-872e-4f11-b34a-f587df9ff281",
   "metadata": {},
   "outputs": [
    {
     "data": {
      "text/plain": [
       "array([1, 2, 3, 4, 5, 6, 7, 8, 9])"
      ]
     },
     "execution_count": 3,
     "metadata": {},
     "output_type": "execute_result"
    }
   ],
   "source": [
    "a"
   ]
  },
  {
   "cell_type": "code",
   "execution_count": 4,
   "id": "9756e33d-dac3-429d-bcdd-94164731dacf",
   "metadata": {},
   "outputs": [
    {
     "data": {
      "text/plain": [
       "array([ True,  True,  True,  True, False, False, False, False, False])"
      ]
     },
     "execution_count": 4,
     "metadata": {},
     "output_type": "execute_result"
    }
   ],
   "source": [
    "a < 5"
   ]
  },
  {
   "cell_type": "code",
   "execution_count": 5,
   "id": "776019a5-6a65-4757-bcbb-64816095d035",
   "metadata": {},
   "outputs": [
    {
     "data": {
      "text/plain": [
       "array([1, 2, 3, 4])"
      ]
     },
     "execution_count": 5,
     "metadata": {},
     "output_type": "execute_result"
    }
   ],
   "source": [
    "a[a<5]"
   ]
  },
  {
   "cell_type": "code",
   "execution_count": 6,
   "id": "99a59595-d1a2-4138-8f28-d51a9a981002",
   "metadata": {},
   "outputs": [
    {
     "data": {
      "text/plain": [
       "array([1, 2, 3, 4, 5, 6, 7, 8, 9])"
      ]
     },
     "execution_count": 6,
     "metadata": {},
     "output_type": "execute_result"
    }
   ],
   "source": [
    "a"
   ]
  },
  {
   "cell_type": "code",
   "execution_count": 7,
   "id": "7f24ca12-fec2-44bd-90d1-083568a96346",
   "metadata": {},
   "outputs": [],
   "source": [
    "filt = a < 3"
   ]
  },
  {
   "cell_type": "code",
   "execution_count": 8,
   "id": "98d3d8a7-22d7-407c-8945-41a3cc877dc0",
   "metadata": {},
   "outputs": [
    {
     "data": {
      "text/plain": [
       "array([1, 2])"
      ]
     },
     "execution_count": 8,
     "metadata": {},
     "output_type": "execute_result"
    }
   ],
   "source": [
    "a[filt]"
   ]
  },
  {
   "cell_type": "code",
   "execution_count": 9,
   "id": "abb0716e-fd2c-48f5-975a-356c8977af42",
   "metadata": {},
   "outputs": [
    {
     "data": {
      "text/plain": [
       "array([1, 2, 3, 4, 5, 6, 7, 8, 9])"
      ]
     },
     "execution_count": 9,
     "metadata": {},
     "output_type": "execute_result"
    }
   ],
   "source": [
    "a"
   ]
  },
  {
   "cell_type": "code",
   "execution_count": 10,
   "id": "e1ca51a6-b520-4d48-b482-f8e0b574c20a",
   "metadata": {},
   "outputs": [],
   "source": [
    "b = np.array([2,3,3,4,5,61,7,8,11])"
   ]
  },
  {
   "cell_type": "code",
   "execution_count": 11,
   "id": "d2a2959d-d771-47df-9cd6-e9ddd5ad5378",
   "metadata": {},
   "outputs": [
    {
     "data": {
      "text/plain": [
       "array([ 2,  3,  3,  4,  5, 61,  7,  8, 11])"
      ]
     },
     "execution_count": 11,
     "metadata": {},
     "output_type": "execute_result"
    }
   ],
   "source": [
    "b"
   ]
  },
  {
   "cell_type": "markdown",
   "id": "ae540c17-1b66-411f-972b-429fad71df68",
   "metadata": {},
   "source": [
    "* Ortak olan elemanlar True digerleri False oluyor."
   ]
  },
  {
   "cell_type": "code",
   "execution_count": 12,
   "id": "6019ba8b-34e8-4c83-867e-df81b1ca7c42",
   "metadata": {},
   "outputs": [
    {
     "data": {
      "text/plain": [
       "array([False, False,  True,  True,  True, False,  True,  True, False])"
      ]
     },
     "execution_count": 12,
     "metadata": {},
     "output_type": "execute_result"
    }
   ],
   "source": [
    "a == b"
   ]
  },
  {
   "cell_type": "markdown",
   "id": "a25cabad-0549-4563-9d4a-419c915d0aff",
   "metadata": {},
   "source": [
    "*  Ortak olan elemanlari gosteriyor."
   ]
  },
  {
   "cell_type": "code",
   "execution_count": 15,
   "id": "4267e223-4c74-4dbf-ac16-b40abb44442d",
   "metadata": {},
   "outputs": [
    {
     "data": {
      "text/plain": [
       "array([3, 4, 5, 7, 8])"
      ]
     },
     "execution_count": 15,
     "metadata": {},
     "output_type": "execute_result"
    }
   ],
   "source": [
    "a[a==b]"
   ]
  },
  {
   "cell_type": "code",
   "execution_count": 16,
   "id": "54cec5ad-6f64-4470-80bd-8991f36360d5",
   "metadata": {},
   "outputs": [
    {
     "data": {
      "text/plain": [
       "array([3, 4, 5, 7, 8])"
      ]
     },
     "execution_count": 16,
     "metadata": {},
     "output_type": "execute_result"
    }
   ],
   "source": [
    "b[a==b]"
   ]
  },
  {
   "cell_type": "code",
   "execution_count": 17,
   "id": "c8fb352e-5419-4822-b189-e3e8388c6320",
   "metadata": {},
   "outputs": [
    {
     "data": {
      "text/plain": [
       "array([ True, False, False, False, False, False, False, False, False])"
      ]
     },
     "execution_count": 17,
     "metadata": {},
     "output_type": "execute_result"
    }
   ],
   "source": [
    "a == [1]"
   ]
  },
  {
   "cell_type": "code",
   "execution_count": 18,
   "id": "0975c161-e0fa-4fe2-b03a-7ee5af6f71cb",
   "metadata": {},
   "outputs": [
    {
     "data": {
      "text/plain": [
       "array([ True, False, False, False, False, False, False, False, False])"
      ]
     },
     "execution_count": 18,
     "metadata": {},
     "output_type": "execute_result"
    }
   ],
   "source": [
    "a == 1"
   ]
  },
  {
   "cell_type": "markdown",
   "id": "b9c2b8b3-f61a-471d-96ac-4911ecf61aaa",
   "metadata": {},
   "source": [
    "* or yerine | koymamiz gerek."
   ]
  },
  {
   "cell_type": "code",
   "execution_count": 19,
   "id": "21d80b2c-0f72-44f5-82a2-51e927172071",
   "metadata": {},
   "outputs": [
    {
     "ename": "ValueError",
     "evalue": "The truth value of an array with more than one element is ambiguous. Use a.any() or a.all()",
     "output_type": "error",
     "traceback": [
      "\u001b[0;31m---------------------------------------------------------------------------\u001b[0m",
      "\u001b[0;31mValueError\u001b[0m                                Traceback (most recent call last)",
      "Cell \u001b[0;32mIn[19], line 1\u001b[0m\n\u001b[0;32m----> 1\u001b[0m \u001b[43m(\u001b[49m\u001b[43ma\u001b[49m\u001b[43m \u001b[49m\u001b[38;5;241;43m<\u001b[39;49m\u001b[43m \u001b[49m\u001b[38;5;241;43m3\u001b[39;49m\u001b[43m)\u001b[49m\u001b[43m \u001b[49m\u001b[38;5;129;43;01mor\u001b[39;49;00m\u001b[43m \u001b[49m\u001b[43m(\u001b[49m\u001b[43ma\u001b[49m\u001b[43m \u001b[49m\u001b[38;5;241;43m>\u001b[39;49m\u001b[43m \u001b[49m\u001b[38;5;241;43m5\u001b[39;49m\u001b[43m)\u001b[49m\n",
      "\u001b[0;31mValueError\u001b[0m: The truth value of an array with more than one element is ambiguous. Use a.any() or a.all()"
     ]
    }
   ],
   "source": [
    "(a < 3) or (a > 5)"
   ]
  },
  {
   "cell_type": "code",
   "execution_count": 20,
   "id": "211f2a38-6834-4201-b4b5-86b8b463445e",
   "metadata": {},
   "outputs": [
    {
     "data": {
      "text/plain": [
       "array([ True,  True, False, False, False,  True,  True,  True,  True])"
      ]
     },
     "execution_count": 20,
     "metadata": {},
     "output_type": "execute_result"
    }
   ],
   "source": [
    "(a < 3) | (a > 5)"
   ]
  },
  {
   "cell_type": "code",
   "execution_count": 21,
   "id": "0b5afa2a-f517-464f-addf-151c803ce171",
   "metadata": {},
   "outputs": [
    {
     "data": {
      "text/plain": [
       "array([1, 2, 6, 7, 8, 9])"
      ]
     },
     "execution_count": 21,
     "metadata": {},
     "output_type": "execute_result"
    }
   ],
   "source": [
    "a[(a < 3) | (a > 5)]"
   ]
  },
  {
   "cell_type": "code",
   "execution_count": 22,
   "id": "d98ffbcc-27a1-4d28-b4ca-99ce8d9678a8",
   "metadata": {},
   "outputs": [],
   "source": [
    "filt = (a < 3) | (a > 5)"
   ]
  },
  {
   "cell_type": "code",
   "execution_count": 23,
   "id": "05baf841-20ca-474c-b528-83efd6fd14da",
   "metadata": {},
   "outputs": [
    {
     "data": {
      "text/plain": [
       "array([ True,  True, False, False, False,  True,  True,  True,  True])"
      ]
     },
     "execution_count": 23,
     "metadata": {},
     "output_type": "execute_result"
    }
   ],
   "source": [
    "filt"
   ]
  },
  {
   "cell_type": "markdown",
   "id": "bd2b5a56-eaa6-4593-8b96-e3e01ea1f15d",
   "metadata": {},
   "source": [
    "* and yerine de &"
   ]
  },
  {
   "cell_type": "code",
   "execution_count": 24,
   "id": "dec87d66-3b03-4f00-af77-bdaa0d9d01a5",
   "metadata": {},
   "outputs": [
    {
     "data": {
      "text/plain": [
       "array([], dtype=int64)"
      ]
     },
     "execution_count": 24,
     "metadata": {},
     "output_type": "execute_result"
    }
   ],
   "source": [
    "a[(a < 3) & (a > 5)]"
   ]
  },
  {
   "cell_type": "markdown",
   "id": "9a0819c3-b1b7-4ac0-b56b-0404418cba7e",
   "metadata": {},
   "source": [
    "## Filtrenin Degili\n",
    "* degili icin ~ kullanmamiz gerek."
   ]
  },
  {
   "cell_type": "code",
   "execution_count": 30,
   "id": "50d35282-04af-49cf-84f7-619bacda4e64",
   "metadata": {},
   "outputs": [],
   "source": [
    "a = np.arange(1,21).reshape(4,5)"
   ]
  },
  {
   "cell_type": "code",
   "execution_count": 31,
   "id": "c3c415b3-44b5-4fba-a820-8a06ea0ee244",
   "metadata": {},
   "outputs": [
    {
     "data": {
      "text/plain": [
       "array([[ 1,  2,  3,  4,  5],\n",
       "       [ 6,  7,  8,  9, 10],\n",
       "       [11, 12, 13, 14, 15],\n",
       "       [16, 17, 18, 19, 20]])"
      ]
     },
     "execution_count": 31,
     "metadata": {},
     "output_type": "execute_result"
    }
   ],
   "source": [
    "a"
   ]
  },
  {
   "cell_type": "code",
   "execution_count": 32,
   "id": "991ed4fa-a98c-4a26-96de-e60ff8e70f21",
   "metadata": {},
   "outputs": [
    {
     "data": {
      "text/plain": [
       "array([[ True,  True,  True,  True,  True],\n",
       "       [False, False, False,  True,  True],\n",
       "       [ True,  True,  True,  True,  True],\n",
       "       [ True,  True,  True,  True,  True]])"
      ]
     },
     "execution_count": 32,
     "metadata": {},
     "output_type": "execute_result"
    }
   ],
   "source": [
    "~((a>5) & (a<9))"
   ]
  },
  {
   "cell_type": "code",
   "execution_count": 33,
   "id": "1215e87d-e162-4196-8b66-54eebc59c968",
   "metadata": {},
   "outputs": [],
   "source": [
    "filt = ~((a>5) & (a<9))"
   ]
  },
  {
   "cell_type": "code",
   "execution_count": 34,
   "id": "fe9b1a5a-8a16-4e2e-80c0-b0cd9fb8e350",
   "metadata": {},
   "outputs": [
    {
     "data": {
      "text/plain": [
       "array([ 1,  2,  3,  4,  5,  9, 10, 11, 12, 13, 14, 15, 16, 17, 18, 19, 20])"
      ]
     },
     "execution_count": 34,
     "metadata": {},
     "output_type": "execute_result"
    }
   ],
   "source": [
    "a[filt]"
   ]
  },
  {
   "cell_type": "markdown",
   "id": "ce4bde4f-7d53-4e55-a25c-d69f647a953f",
   "metadata": {},
   "source": [
    "## Multidimensional Array"
   ]
  },
  {
   "cell_type": "code",
   "execution_count": 35,
   "id": "050befc2-db5b-4a23-aad0-57811f5a4ddc",
   "metadata": {},
   "outputs": [],
   "source": [
    "a = np.arange(1,21).reshape(4,5)"
   ]
  },
  {
   "cell_type": "code",
   "execution_count": 36,
   "id": "23f94cbd-247d-4292-adaf-bf860529997b",
   "metadata": {},
   "outputs": [
    {
     "data": {
      "text/plain": [
       "array([[ 1,  2,  3,  4,  5],\n",
       "       [ 6,  7,  8,  9, 10],\n",
       "       [11, 12, 13, 14, 15],\n",
       "       [16, 17, 18, 19, 20]])"
      ]
     },
     "execution_count": 36,
     "metadata": {},
     "output_type": "execute_result"
    }
   ],
   "source": [
    "a"
   ]
  },
  {
   "cell_type": "code",
   "execution_count": 37,
   "id": "32985924-e6fe-49c5-9ce8-4e4c974791be",
   "metadata": {},
   "outputs": [
    {
     "data": {
      "text/plain": [
       "numpy.ndarray"
      ]
     },
     "execution_count": 37,
     "metadata": {},
     "output_type": "execute_result"
    }
   ],
   "source": [
    "type(a)"
   ]
  },
  {
   "cell_type": "code",
   "execution_count": 38,
   "id": "ffa70a69-a09a-4ae3-86af-412d7ea94d1c",
   "metadata": {},
   "outputs": [
    {
     "data": {
      "text/plain": [
       "array([[ True,  True,  True,  True,  True],\n",
       "       [ True, False, False, False, False],\n",
       "       [False, False, False, False, False],\n",
       "       [False, False, False, False, False]])"
      ]
     },
     "execution_count": 38,
     "metadata": {},
     "output_type": "execute_result"
    }
   ],
   "source": [
    "a < 7"
   ]
  },
  {
   "cell_type": "code",
   "execution_count": 39,
   "id": "ae077b96-a03f-48ed-abbf-09ac287710d3",
   "metadata": {},
   "outputs": [
    {
     "data": {
      "text/plain": [
       "array([1, 2, 3, 4, 5, 6])"
      ]
     },
     "execution_count": 39,
     "metadata": {},
     "output_type": "execute_result"
    }
   ],
   "source": [
    "a[a<7]"
   ]
  },
  {
   "cell_type": "code",
   "execution_count": 40,
   "id": "82d74fa0-1087-48e8-b492-be3fbfdfeec8",
   "metadata": {},
   "outputs": [
    {
     "data": {
      "text/plain": [
       "(6,)"
      ]
     },
     "execution_count": 40,
     "metadata": {},
     "output_type": "execute_result"
    }
   ],
   "source": [
    "a[a<7].shape"
   ]
  },
  {
   "cell_type": "markdown",
   "id": "e1d83dc5-04ca-4a25-a7d5-784cc8b05d5e",
   "metadata": {},
   "source": [
    "## Sum"
   ]
  },
  {
   "cell_type": "code",
   "execution_count": 43,
   "id": "3d70c6a8-a168-45d5-a532-4f450a16db80",
   "metadata": {},
   "outputs": [],
   "source": [
    "a = np.arange(1,21).reshape(4,5)"
   ]
  },
  {
   "cell_type": "code",
   "execution_count": 44,
   "id": "e3d2baf1-efe4-40bc-9e93-3ee95d40251e",
   "metadata": {},
   "outputs": [
    {
     "data": {
      "text/plain": [
       "array([[ 1,  2,  3,  4,  5],\n",
       "       [ 6,  7,  8,  9, 10],\n",
       "       [11, 12, 13, 14, 15],\n",
       "       [16, 17, 18, 19, 20]])"
      ]
     },
     "execution_count": 44,
     "metadata": {},
     "output_type": "execute_result"
    }
   ],
   "source": [
    "a"
   ]
  },
  {
   "cell_type": "markdown",
   "id": "14045b17-7a80-46c7-bd82-157dca0f26a0",
   "metadata": {},
   "source": [
    "* Butun degeleri topluyor."
   ]
  },
  {
   "cell_type": "code",
   "execution_count": 45,
   "id": "cf156f0a-9006-4344-bed0-56683a9717d6",
   "metadata": {},
   "outputs": [
    {
     "data": {
      "text/plain": [
       "210"
      ]
     },
     "execution_count": 45,
     "metadata": {},
     "output_type": "execute_result"
    }
   ],
   "source": [
    "np.sum(a)"
   ]
  },
  {
   "cell_type": "markdown",
   "id": "f7f04d22-a963-41d1-90ec-ce779a8acb04",
   "metadata": {},
   "source": [
    "* Verilen conditioni kac elemanin sagladigini bulmamizi saglar."
   ]
  },
  {
   "cell_type": "code",
   "execution_count": 50,
   "id": "23bcd213-a314-4082-b5eb-86648e48cc5b",
   "metadata": {},
   "outputs": [],
   "source": [
    "filt = a < 5"
   ]
  },
  {
   "cell_type": "code",
   "execution_count": 51,
   "id": "f9c69bf5-817e-47c0-b97f-56b3278fa982",
   "metadata": {},
   "outputs": [
    {
     "data": {
      "text/plain": [
       "array([[ True,  True,  True,  True, False],\n",
       "       [False, False, False, False, False],\n",
       "       [False, False, False, False, False],\n",
       "       [False, False, False, False, False]])"
      ]
     },
     "execution_count": 51,
     "metadata": {},
     "output_type": "execute_result"
    }
   ],
   "source": [
    "filt"
   ]
  },
  {
   "cell_type": "code",
   "execution_count": 52,
   "id": "8e0007ff-aba5-4264-9a4b-8cf84f5f465c",
   "metadata": {},
   "outputs": [
    {
     "data": {
      "text/plain": [
       "4"
      ]
     },
     "execution_count": 52,
     "metadata": {},
     "output_type": "execute_result"
    }
   ],
   "source": [
    "np.sum(filt)"
   ]
  },
  {
   "cell_type": "code",
   "execution_count": 53,
   "id": "01b21899-4883-4f27-a10b-9ee7d7018488",
   "metadata": {},
   "outputs": [
    {
     "data": {
      "text/plain": [
       "array([1, 2, 3, 4])"
      ]
     },
     "execution_count": 53,
     "metadata": {},
     "output_type": "execute_result"
    }
   ],
   "source": [
    "a[filt]"
   ]
  },
  {
   "cell_type": "code",
   "execution_count": 54,
   "id": "0c6eb12b-0197-4fb5-8b81-9d1cc745d76b",
   "metadata": {},
   "outputs": [
    {
     "data": {
      "text/plain": [
       "17"
      ]
     },
     "execution_count": 54,
     "metadata": {},
     "output_type": "execute_result"
    }
   ],
   "source": [
    "np.sum(~((a>5) & (a<9)))"
   ]
  },
  {
   "cell_type": "code",
   "execution_count": 55,
   "id": "b4875a7a-74df-42be-8cbc-00b8a22c0d3b",
   "metadata": {},
   "outputs": [
    {
     "data": {
      "text/plain": [
       "189"
      ]
     },
     "execution_count": 55,
     "metadata": {},
     "output_type": "execute_result"
    }
   ],
   "source": [
    "np.sum(a[~((a>5) & (a<9))])"
   ]
  },
  {
   "cell_type": "markdown",
   "id": "6a69434d-95ce-4b96-be86-807b0a138fa4",
   "metadata": {},
   "source": [
    "### Belirli axis uzrinde toplama"
   ]
  },
  {
   "cell_type": "code",
   "execution_count": 56,
   "id": "30084f79-a202-43b9-9eed-29a78e8b2c5b",
   "metadata": {},
   "outputs": [
    {
     "data": {
      "text/plain": [
       "array([[ 1,  2,  3,  4,  5],\n",
       "       [ 6,  7,  8,  9, 10],\n",
       "       [11, 12, 13, 14, 15],\n",
       "       [16, 17, 18, 19, 20]])"
      ]
     },
     "execution_count": 56,
     "metadata": {},
     "output_type": "execute_result"
    }
   ],
   "source": [
    "a"
   ]
  },
  {
   "cell_type": "code",
   "execution_count": 57,
   "id": "1956c067-1dfe-4b58-8c20-84e14249acac",
   "metadata": {},
   "outputs": [
    {
     "data": {
      "text/plain": [
       "array([34, 38, 42, 46, 50])"
      ]
     },
     "execution_count": 57,
     "metadata": {},
     "output_type": "execute_result"
    }
   ],
   "source": [
    "np.sum(a, axis = 0)"
   ]
  },
  {
   "cell_type": "code",
   "execution_count": 58,
   "id": "7cf6dcf7-43ba-4f1f-b0ff-18430dec1e91",
   "metadata": {},
   "outputs": [
    {
     "data": {
      "text/plain": [
       "array([15, 40, 65, 90])"
      ]
     },
     "execution_count": 58,
     "metadata": {},
     "output_type": "execute_result"
    }
   ],
   "source": [
    "np.sum(a, axis = 1)"
   ]
  },
  {
   "cell_type": "markdown",
   "id": "ed1515c7-6583-426e-9545-c438ceea02bb",
   "metadata": {},
   "source": [
    "## ALL\n",
    "* Tum elemanlar verilen sarti sagliyor mu kontrol etmek icin."
   ]
  },
  {
   "cell_type": "code",
   "execution_count": 3,
   "id": "5c2845b3-9299-48bf-bcd7-c9eb28d7e3cb",
   "metadata": {},
   "outputs": [],
   "source": [
    "a = np.arange(20).reshape(4,5)"
   ]
  },
  {
   "cell_type": "code",
   "execution_count": 4,
   "id": "34011115-2677-4553-a06a-c61ce641eff1",
   "metadata": {},
   "outputs": [
    {
     "data": {
      "text/plain": [
       "array([[ 0,  1,  2,  3,  4],\n",
       "       [ 5,  6,  7,  8,  9],\n",
       "       [10, 11, 12, 13, 14],\n",
       "       [15, 16, 17, 18, 19]])"
      ]
     },
     "execution_count": 4,
     "metadata": {},
     "output_type": "execute_result"
    }
   ],
   "source": [
    "a"
   ]
  },
  {
   "cell_type": "code",
   "execution_count": 5,
   "id": "787b2c35-3619-4053-89df-834e12b3dc52",
   "metadata": {},
   "outputs": [
    {
     "data": {
      "text/plain": [
       "array([[ True,  True,  True,  True,  True],\n",
       "       [ True,  True,  True,  True,  True],\n",
       "       [ True,  True,  True,  True,  True],\n",
       "       [ True,  True,  True,  True,  True]])"
      ]
     },
     "execution_count": 5,
     "metadata": {},
     "output_type": "execute_result"
    }
   ],
   "source": [
    "a>-1"
   ]
  },
  {
   "cell_type": "markdown",
   "id": "f90484f0-65e8-4a72-af6b-5cb3da7fc47e",
   "metadata": {},
   "source": [
    "* Hepsi True oldugu icin True degeri dondurdu."
   ]
  },
  {
   "cell_type": "code",
   "execution_count": 7,
   "id": "069dcb4b-8984-4195-b766-e7ac3ba2bdc5",
   "metadata": {},
   "outputs": [
    {
     "data": {
      "text/plain": [
       "True"
      ]
     },
     "execution_count": 7,
     "metadata": {},
     "output_type": "execute_result"
    }
   ],
   "source": [
    "np.all(1>-1)"
   ]
  },
  {
   "cell_type": "markdown",
   "id": "438394c0-6d90-4f13-aae6-3013b7724290",
   "metadata": {},
   "source": [
    "* Hepsi True olmadigi icin False dondurdu."
   ]
  },
  {
   "cell_type": "code",
   "execution_count": 16,
   "id": "4859a6a1-1d20-4dd8-8e60-60876353b21e",
   "metadata": {},
   "outputs": [
    {
     "data": {
      "text/plain": [
       "array([[False, False, False, False, False],\n",
       "       [False,  True,  True,  True,  True],\n",
       "       [ True,  True,  True,  True,  True],\n",
       "       [ True,  True,  True,  True,  True]])"
      ]
     },
     "execution_count": 16,
     "metadata": {},
     "output_type": "execute_result"
    }
   ],
   "source": [
    "a>5"
   ]
  },
  {
   "cell_type": "code",
   "execution_count": 17,
   "id": "cd1d486c-ad33-41fd-909a-8556d5cffa2e",
   "metadata": {},
   "outputs": [
    {
     "data": {
      "text/plain": [
       "False"
      ]
     },
     "execution_count": 17,
     "metadata": {},
     "output_type": "execute_result"
    }
   ],
   "source": [
    "np.all(1>5)"
   ]
  },
  {
   "cell_type": "markdown",
   "id": "c5a72dcd-1673-47f6-9333-6a0c2e68895a",
   "metadata": {},
   "source": [
    "* Axis bazli bakti. 4 tane axis in hepsininkine yari ayri bakti."
   ]
  },
  {
   "cell_type": "code",
   "execution_count": 18,
   "id": "d14f091b-cb59-4b07-a6a4-afc0833e6667",
   "metadata": {},
   "outputs": [
    {
     "data": {
      "text/plain": [
       "array([False, False,  True,  True])"
      ]
     },
     "execution_count": 18,
     "metadata": {},
     "output_type": "execute_result"
    }
   ],
   "source": [
    "np.all(a>5, axis = 1)"
   ]
  },
  {
   "cell_type": "markdown",
   "id": "dd2f5507-d275-48e5-94ba-467a2538e91c",
   "metadata": {},
   "source": [
    "* Axis = 0 da ise y ekseni bazli ayri ayri bakti.\n",
    "* Hepsi False cunku hepsinde en az 1 tane False var."
   ]
  },
  {
   "cell_type": "code",
   "execution_count": 19,
   "id": "4d6a09c0-fe10-42d4-9d14-22014af95fbd",
   "metadata": {},
   "outputs": [
    {
     "data": {
      "text/plain": [
       "array([False, False, False, False, False])"
      ]
     },
     "execution_count": 19,
     "metadata": {},
     "output_type": "execute_result"
    }
   ],
   "source": [
    "np.all(a>5, axis = 0)"
   ]
  },
  {
   "cell_type": "markdown",
   "id": "efdc8afe-f80f-46c1-a870-77325c923fe4",
   "metadata": {},
   "source": [
    "## ANY\n",
    "* All da True dondurmesi icin hepsinin True olmasi gerekirken. Any de biririnin True olmasi True dondurmesi icin yeterli."
   ]
  },
  {
   "cell_type": "code",
   "execution_count": 21,
   "id": "53a2566f-bf72-4ab5-a331-8e85503a9fc9",
   "metadata": {},
   "outputs": [],
   "source": [
    "a = np.arange(20).reshape(4,5)"
   ]
  },
  {
   "cell_type": "code",
   "execution_count": 22,
   "id": "7403dee9-41bf-4963-b09b-c41925d726a0",
   "metadata": {},
   "outputs": [
    {
     "data": {
      "text/plain": [
       "array([[ 0,  1,  2,  3,  4],\n",
       "       [ 5,  6,  7,  8,  9],\n",
       "       [10, 11, 12, 13, 14],\n",
       "       [15, 16, 17, 18, 19]])"
      ]
     },
     "execution_count": 22,
     "metadata": {},
     "output_type": "execute_result"
    }
   ],
   "source": [
    "a"
   ]
  },
  {
   "cell_type": "code",
   "execution_count": 23,
   "id": "2dbbadfb-f53c-4f91-8d0d-96d186763e30",
   "metadata": {},
   "outputs": [
    {
     "data": {
      "text/plain": [
       "array([[False, False, False, False, False],\n",
       "       [False, False, False, False, False],\n",
       "       [False, False, False, False, False],\n",
       "       [False, False, False,  True,  True]])"
      ]
     },
     "execution_count": 23,
     "metadata": {},
     "output_type": "execute_result"
    }
   ],
   "source": [
    "a>17"
   ]
  },
  {
   "cell_type": "markdown",
   "id": "cce8bb5c-34da-4b83-931a-63e4448b77bf",
   "metadata": {},
   "source": [
    "* Sadece birinin kosulu karsilamasi True icin yeterli."
   ]
  },
  {
   "cell_type": "code",
   "execution_count": 26,
   "id": "7bad9def-ebde-4d57-8133-9d6a00729ba8",
   "metadata": {},
   "outputs": [
    {
     "data": {
      "text/plain": [
       "True"
      ]
     },
     "execution_count": 26,
     "metadata": {},
     "output_type": "execute_result"
    }
   ],
   "source": [
    "np.any(a>17)"
   ]
  },
  {
   "cell_type": "markdown",
   "id": "d748d8c1-206a-4da1-97b0-fbcfdae3ecab",
   "metadata": {},
   "source": [
    "* Sadece son satida kosulu karsilayan ifade var. Satir Bazli bakiyor."
   ]
  },
  {
   "cell_type": "code",
   "execution_count": 35,
   "id": "53ae4591-6d58-428d-b8cc-4ad33352bed1",
   "metadata": {},
   "outputs": [
    {
     "data": {
      "text/plain": [
       "array([False, False, False,  True])"
      ]
     },
     "execution_count": 35,
     "metadata": {},
     "output_type": "execute_result"
    }
   ],
   "source": [
    "np.any(a>17, axis=1)"
   ]
  },
  {
   "cell_type": "markdown",
   "id": "831d7b99-5ab1-4355-b753-1c969e151930",
   "metadata": {},
   "source": [
    "* Stun bazli bakiyor. Sadece Son 2 stunda kosul karsilaniyor."
   ]
  },
  {
   "cell_type": "code",
   "execution_count": 33,
   "id": "81f07a0f-89d3-45de-a55e-3ed55057556b",
   "metadata": {},
   "outputs": [
    {
     "data": {
      "text/plain": [
       "array([False, False, False,  True,  True])"
      ]
     },
     "execution_count": 33,
     "metadata": {},
     "output_type": "execute_result"
    }
   ],
   "source": [
    "np.any(a>17, axis=0)"
   ]
  }
 ],
 "metadata": {
  "kernelspec": {
   "display_name": "Python 3 (ipykernel)",
   "language": "python",
   "name": "python3"
  },
  "language_info": {
   "codemirror_mode": {
    "name": "ipython",
    "version": 3
   },
   "file_extension": ".py",
   "mimetype": "text/x-python",
   "name": "python",
   "nbconvert_exporter": "python",
   "pygments_lexer": "ipython3",
   "version": "3.11.5"
  }
 },
 "nbformat": 4,
 "nbformat_minor": 5
}
