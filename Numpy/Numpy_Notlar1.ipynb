{
 "cells": [
  {
   "cell_type": "code",
   "execution_count": 1,
   "id": "024fa2ce-0414-4594-af6a-a3136db57349",
   "metadata": {},
   "outputs": [],
   "source": [
    "import numpy as np"
   ]
  },
  {
   "cell_type": "markdown",
   "id": "8ae11888-3b6f-4673-b0d2-cdbe1eed6bf1",
   "metadata": {},
   "source": [
    "## Numpy Array\n",
    "* Numpy arraylari pyhon listlerine benziyor ama onlardan farkı farklı veri tipleri icermezler.\n",
    "* Tek bir veri tipinde elemanlar olması gerekiyor."
   ]
  },
  {
   "cell_type": "markdown",
   "id": "e3f305ff-6fdc-4498-93cc-c23bcf481539",
   "metadata": {},
   "source": [
    "## Neden Numpy?\n",
    "* Hızlı numeric islemler yapmamızı sağlıyor. Cünkü C de yazılmıs bir kütüphane."
   ]
  },
  {
   "cell_type": "markdown",
   "id": "33884ee6-7df6-4dca-a0da-c7acc8aedf14",
   "metadata": {},
   "source": [
    "## Listeden Array Yaratmak"
   ]
  },
  {
   "cell_type": "code",
   "execution_count": 2,
   "id": "0fde48e5-4e6f-4609-b7aa-013846fbefd9",
   "metadata": {},
   "outputs": [],
   "source": [
    "x = np.array([1,2,3,4])"
   ]
  },
  {
   "cell_type": "code",
   "execution_count": 3,
   "id": "1105aee8-37dc-4562-89f3-c9104540e591",
   "metadata": {},
   "outputs": [
    {
     "data": {
      "text/plain": [
       "array([1, 2, 3, 4])"
      ]
     },
     "execution_count": 3,
     "metadata": {},
     "output_type": "execute_result"
    }
   ],
   "source": [
    "x"
   ]
  },
  {
   "cell_type": "code",
   "execution_count": 4,
   "id": "4a6827df-31d2-4a04-902d-1920348e2b5b",
   "metadata": {},
   "outputs": [
    {
     "data": {
      "text/plain": [
       "numpy.ndarray"
      ]
     },
     "execution_count": 4,
     "metadata": {},
     "output_type": "execute_result"
    }
   ],
   "source": [
    "type(x)"
   ]
  },
  {
   "cell_type": "code",
   "execution_count": 5,
   "id": "0573fb1a-a2c6-4a7a-9a0d-5ee2edb1790c",
   "metadata": {},
   "outputs": [],
   "source": [
    "y = np.array([\"a\",\"b\",\"c\"])"
   ]
  },
  {
   "cell_type": "code",
   "execution_count": 6,
   "id": "14a2c11b-c63f-4422-8f9f-c5de90e89b78",
   "metadata": {},
   "outputs": [
    {
     "data": {
      "text/plain": [
       "array(['a', 'b', 'c'], dtype='<U1')"
      ]
     },
     "execution_count": 6,
     "metadata": {},
     "output_type": "execute_result"
    }
   ],
   "source": [
    "y"
   ]
  },
  {
   "cell_type": "markdown",
   "id": "5842294e-7a0c-4e5b-89ce-a8c063475841",
   "metadata": {},
   "source": [
    "* Hem integer bir veri hemde string bir veri girersek hepsini string e donusturecek.\n",
    "* Cunku daha rahat yani string olan deger integer olamaz iken int olan bir deger string olabilir.\n",
    "* Ornek: \"A\" bir string iken bu integer olamaz ama 1 integer iken bir string olabilir. \"1\""
   ]
  },
  {
   "cell_type": "code",
   "execution_count": 9,
   "id": "94b4b760-4f47-4b02-a323-7ee42ebcbf6a",
   "metadata": {},
   "outputs": [],
   "source": [
    "z = np.array([1,2,3,\"a\"])"
   ]
  },
  {
   "cell_type": "code",
   "execution_count": 10,
   "id": "9fb4b3e0-0e32-4df5-af1b-c2b1e41389fe",
   "metadata": {},
   "outputs": [
    {
     "data": {
      "text/plain": [
       "array(['1', '2', '3', 'a'], dtype='<U21')"
      ]
     },
     "execution_count": 10,
     "metadata": {},
     "output_type": "execute_result"
    }
   ],
   "source": [
    "z"
   ]
  },
  {
   "cell_type": "markdown",
   "id": "616a0f18-56bc-4927-abbe-b9ec85a6c54d",
   "metadata": {},
   "source": [
    "* Ayni sey float icinde gecerli.\n",
    "* Float icinde örnek 4.2 bir float bunu int yapmaya kalktığımızda yapamazyız.\n",
    "* Bu sebele int olan sayılar float olur.\n",
    "* Örnek: 3 = 3.  72 = 72."
   ]
  },
  {
   "cell_type": "code",
   "execution_count": 11,
   "id": "d3e9eec9-8d2b-4518-a84a-9435f6f0c5b2",
   "metadata": {},
   "outputs": [],
   "source": [
    "a = np.array([1,2,3,4,5.6,7.8])"
   ]
  },
  {
   "cell_type": "code",
   "execution_count": 12,
   "id": "bc87c89e-55f9-4f9a-99d6-dcfc7576131f",
   "metadata": {},
   "outputs": [
    {
     "data": {
      "text/plain": [
       "array([1. , 2. , 3. , 4. , 5.6, 7.8])"
      ]
     },
     "execution_count": 12,
     "metadata": {},
     "output_type": "execute_result"
    }
   ],
   "source": [
    "a"
   ]
  },
  {
   "cell_type": "markdown",
   "id": "c8e4fe3c-58ae-4c82-ba4d-2e9d3290e4ad",
   "metadata": {},
   "source": [
    "* Hem int hem str hemde float koyarsak aralarındaki en genel olan str e donüstürecek."
   ]
  },
  {
   "cell_type": "code",
   "execution_count": 13,
   "id": "c24db15b-11ec-4f70-87cc-d2bf950ff45f",
   "metadata": {},
   "outputs": [],
   "source": [
    "b = np.array([1,2,3.9,\"8\",\"a\"])"
   ]
  },
  {
   "cell_type": "code",
   "execution_count": 14,
   "id": "2afd7bf6-dce0-44f2-8ce5-4abf4cbaf3a0",
   "metadata": {},
   "outputs": [
    {
     "data": {
      "text/plain": [
       "array(['1', '2', '3.9', '8', 'a'], dtype='<U32')"
      ]
     },
     "execution_count": 14,
     "metadata": {},
     "output_type": "execute_result"
    }
   ],
   "source": [
    "b"
   ]
  },
  {
   "cell_type": "markdown",
   "id": "b3e83ec3-cdcc-4715-805a-c695b6c42263",
   "metadata": {},
   "source": [
    "## Arrah Data Tipini Manuel Belirtmek\n",
    "* Array'in elemanlarinin veri tipinin ne olacagini ozellikle belirtebiliriz.\n",
    "* Donusebilen degerler donusur.\n",
    "* \"A\" mesela float olmaz hata verir ama \"2\" int e donusebilir."
   ]
  },
  {
   "cell_type": "code",
   "execution_count": 15,
   "id": "1c27cbf9-9b27-40af-a85a-6601a66e85ee",
   "metadata": {},
   "outputs": [],
   "source": [
    "c = np.array([1,2,3,4,5], dtype = \"str\")"
   ]
  },
  {
   "cell_type": "code",
   "execution_count": 16,
   "id": "68c91693-c8b1-41bb-aced-9b5b69e29b91",
   "metadata": {},
   "outputs": [
    {
     "data": {
      "text/plain": [
       "array(['1', '2', '3', '4', '5'], dtype='<U1')"
      ]
     },
     "execution_count": 16,
     "metadata": {},
     "output_type": "execute_result"
    }
   ],
   "source": [
    "c"
   ]
  }
 ],
 "metadata": {
  "kernelspec": {
   "display_name": "Python 3 (ipykernel)",
   "language": "python",
   "name": "python3"
  },
  "language_info": {
   "codemirror_mode": {
    "name": "ipython",
    "version": 3
   },
   "file_extension": ".py",
   "mimetype": "text/x-python",
   "name": "python",
   "nbconvert_exporter": "python",
   "pygments_lexer": "ipython3",
   "version": "3.11.5"
  }
 },
 "nbformat": 4,
 "nbformat_minor": 5
}
